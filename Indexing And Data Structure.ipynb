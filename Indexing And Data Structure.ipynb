{
 "cells": [
  {
   "cell_type": "markdown",
   "id": "96e0ba5a",
   "metadata": {},
   "source": [
    "# Indexing\n"
   ]
  },
  {
   "cell_type": "code",
   "execution_count": 4,
   "id": "d873ac2b",
   "metadata": {},
   "outputs": [
    {
     "data": {
      "text/plain": [
       "'Samoosa Pakora'"
      ]
     },
     "execution_count": 4,
     "metadata": {},
     "output_type": "execute_result"
    }
   ],
   "source": [
    "#make a String\n",
    "a = \"Samoosa Pakora\"\n",
    "a"
   ]
  },
  {
   "cell_type": "code",
   "execution_count": 5,
   "id": "457754ff",
   "metadata": {},
   "outputs": [
    {
     "data": {
      "text/plain": [
       "'S'"
      ]
     },
     "execution_count": 5,
     "metadata": {},
     "output_type": "execute_result"
    }
   ],
   "source": [
    "a[0]"
   ]
  },
  {
   "cell_type": "code",
   "execution_count": 6,
   "id": "641bcd1c",
   "metadata": {},
   "outputs": [
    {
     "data": {
      "text/plain": [
       "'a'"
      ]
     },
     "execution_count": 6,
     "metadata": {},
     "output_type": "execute_result"
    }
   ],
   "source": [
    "a[1]"
   ]
  },
  {
   "cell_type": "code",
   "execution_count": 7,
   "id": "dc23cc7c",
   "metadata": {},
   "outputs": [
    {
     "data": {
      "text/plain": [
       "'o'"
      ]
     },
     "execution_count": 7,
     "metadata": {},
     "output_type": "execute_result"
    }
   ],
   "source": [
    "a[3]"
   ]
  },
  {
   "cell_type": "code",
   "execution_count": 8,
   "id": "e61129d7",
   "metadata": {},
   "outputs": [
    {
     "data": {
      "text/plain": [
       "14"
      ]
     },
     "execution_count": 8,
     "metadata": {},
     "output_type": "execute_result"
    }
   ],
   "source": [
    "#length of Index\n",
    "len(a)"
   ]
  },
  {
   "cell_type": "code",
   "execution_count": 11,
   "id": "7280bbe9",
   "metadata": {},
   "outputs": [
    {
     "data": {
      "text/plain": [
       "'Samoos'"
      ]
     },
     "execution_count": 11,
     "metadata": {},
     "output_type": "execute_result"
    }
   ],
   "source": [
    "a[0:6]"
   ]
  },
  {
   "cell_type": "markdown",
   "id": "da1d27de",
   "metadata": {},
   "source": [
    "# String Method"
   ]
  },
  {
   "cell_type": "code",
   "execution_count": 12,
   "id": "f5dfbcc9",
   "metadata": {},
   "outputs": [
    {
     "data": {
      "text/plain": [
       "'Biryani'"
      ]
     },
     "execution_count": 12,
     "metadata": {},
     "output_type": "execute_result"
    }
   ],
   "source": [
    "food= \"Biryani\"\n",
    "food"
   ]
  },
  {
   "cell_type": "code",
   "execution_count": 13,
   "id": "2af181f0",
   "metadata": {},
   "outputs": [
    {
     "data": {
      "text/plain": [
       "7"
      ]
     },
     "execution_count": 13,
     "metadata": {},
     "output_type": "execute_result"
    }
   ],
   "source": [
    "len(food)"
   ]
  },
  {
   "cell_type": "code",
   "execution_count": 16,
   "id": "dd4e2ff6",
   "metadata": {},
   "outputs": [
    {
     "data": {
      "text/plain": [
       "'Biryani'"
      ]
     },
     "execution_count": 16,
     "metadata": {},
     "output_type": "execute_result"
    }
   ],
   "source": [
    "#Capitalized Each lette\n",
    "food.capitalize()"
   ]
  },
  {
   "cell_type": "code",
   "execution_count": 18,
   "id": "d2aa654b",
   "metadata": {},
   "outputs": [
    {
     "data": {
      "text/plain": [
       "'BIRYANI'"
      ]
     },
     "execution_count": 18,
     "metadata": {},
     "output_type": "execute_result"
    }
   ],
   "source": [
    "#Upper Letters\n",
    "food.upper()"
   ]
  },
  {
   "cell_type": "code",
   "execution_count": 20,
   "id": "3a3bfd6c",
   "metadata": {},
   "outputs": [
    {
     "data": {
      "text/plain": [
       "'biryani'"
      ]
     },
     "execution_count": 20,
     "metadata": {},
     "output_type": "execute_result"
    }
   ],
   "source": [
    "#Lower Letters\n",
    "food.lower()"
   ]
  },
  {
   "cell_type": "code",
   "execution_count": 26,
   "id": "2364bf87",
   "metadata": {},
   "outputs": [
    {
     "data": {
      "text/plain": [
       "'Biryani'"
      ]
     },
     "execution_count": 26,
     "metadata": {},
     "output_type": "execute_result"
    }
   ],
   "source": [
    "food.replace(\"b\" , \"sh\")"
   ]
  },
  {
   "cell_type": "code",
   "execution_count": 28,
   "id": "224a0f5e",
   "metadata": {},
   "outputs": [
    {
     "data": {
      "text/plain": [
       "\"My name is Zeeshan I'm data Scientist\""
      ]
     },
     "execution_count": 28,
     "metadata": {},
     "output_type": "execute_result"
    }
   ],
   "source": [
    "#Counting the Char from string\n",
    "name =\"My name is Zeeshan I'm data Scientist\"\n",
    "name"
   ]
  },
  {
   "cell_type": "code",
   "execution_count": 29,
   "id": "3639381f",
   "metadata": {},
   "outputs": [
    {
     "data": {
      "text/plain": [
       "4"
      ]
     },
     "execution_count": 29,
     "metadata": {},
     "output_type": "execute_result"
    }
   ],
   "source": [
    "name.count(\"a\")"
   ]
  },
  {
   "cell_type": "markdown",
   "id": "bb65c2b8",
   "metadata": {},
   "source": [
    "### - Finding an index number in string\n"
   ]
  },
  {
   "cell_type": "code",
   "execution_count": 30,
   "id": "4c0f6be9",
   "metadata": {},
   "outputs": [
    {
     "data": {
      "text/plain": [
       "\"My name is Zeeshan I'm data Scientist\""
      ]
     },
     "execution_count": 30,
     "metadata": {},
     "output_type": "execute_result"
    }
   ],
   "source": [
    "name =\"My name is Zeeshan I'm data Scientist\"\n",
    "name"
   ]
  },
  {
   "cell_type": "code",
   "execution_count": 31,
   "id": "52a51821",
   "metadata": {},
   "outputs": [
    {
     "data": {
      "text/plain": [
       "6"
      ]
     },
     "execution_count": 31,
     "metadata": {},
     "output_type": "execute_result"
    }
   ],
   "source": [
    "name.find(\"e\")"
   ]
  },
  {
   "cell_type": "code",
   "execution_count": 32,
   "id": "51a242d2",
   "metadata": {},
   "outputs": [
    {
     "data": {
      "text/plain": [
       "'I love biryani and 7up, raita'"
      ]
     },
     "execution_count": 32,
     "metadata": {},
     "output_type": "execute_result"
    }
   ],
   "source": [
    "### - How to Split a string\n",
    "food =\"I love biryani and 7up, raita\"\n",
    "food"
   ]
  },
  {
   "cell_type": "code",
   "execution_count": 33,
   "id": "e4d64394",
   "metadata": {},
   "outputs": [
    {
     "data": {
      "text/plain": [
       "['I love biryani and 7up', ' raita']"
      ]
     },
     "execution_count": 33,
     "metadata": {},
     "output_type": "execute_result"
    }
   ],
   "source": [
    "food.split(\",\")"
   ]
  },
  {
   "cell_type": "markdown",
   "id": "5b1bdab5",
   "metadata": {},
   "source": [
    "# Basic Data Structure in python\n",
    "1: Tuples\n",
    "2: List\n",
    "3: Dictionaries\n",
    "4: Set"
   ]
  },
  {
   "cell_type": "code",
   "execution_count": 35,
   "id": "52e4a066",
   "metadata": {},
   "outputs": [],
   "source": [
    "## Tuples"
   ]
  },
  {
   "cell_type": "code",
   "execution_count": 4,
   "id": "80eb4d4c",
   "metadata": {},
   "outputs": [
    {
     "data": {
      "text/plain": [
       "(1, 'python', True, 2.5)"
      ]
     },
     "execution_count": 4,
     "metadata": {},
     "output_type": "execute_result"
    }
   ],
   "source": [
    "tup1 = (1,\"python\", True, 2.5)\n",
    "tup1"
   ]
  },
  {
   "cell_type": "code",
   "execution_count": 5,
   "id": "56d36a5e",
   "metadata": {},
   "outputs": [
    {
     "data": {
      "text/plain": [
       "tuple"
      ]
     },
     "execution_count": 5,
     "metadata": {},
     "output_type": "execute_result"
    }
   ],
   "source": [
    "type(tup1)"
   ]
  },
  {
   "cell_type": "code",
   "execution_count": 6,
   "id": "824369a6",
   "metadata": {},
   "outputs": [
    {
     "data": {
      "text/plain": [
       "4"
      ]
     },
     "execution_count": 6,
     "metadata": {},
     "output_type": "execute_result"
    }
   ],
   "source": [
    "len(tup1)"
   ]
  },
  {
   "cell_type": "markdown",
   "id": "ee3e16d3",
   "metadata": {},
   "source": [
    "# indexing in Touple"
   ]
  },
  {
   "cell_type": "code",
   "execution_count": 8,
   "id": "f23d141d",
   "metadata": {},
   "outputs": [
    {
     "data": {
      "text/plain": [
       "'python'"
      ]
     },
     "execution_count": 8,
     "metadata": {},
     "output_type": "execute_result"
    }
   ],
   "source": [
    "tup1[1]"
   ]
  },
  {
   "cell_type": "code",
   "execution_count": 9,
   "id": "a1637439",
   "metadata": {},
   "outputs": [
    {
     "data": {
      "text/plain": [
       "True"
      ]
     },
     "execution_count": 9,
     "metadata": {},
     "output_type": "execute_result"
    }
   ],
   "source": [
    "tup1[2]"
   ]
  },
  {
   "cell_type": "code",
   "execution_count": 10,
   "id": "d9655a58",
   "metadata": {},
   "outputs": [
    {
     "data": {
      "text/plain": [
       "2.5"
      ]
     },
     "execution_count": 10,
     "metadata": {},
     "output_type": "execute_result"
    }
   ],
   "source": [
    "tup1[3]"
   ]
  },
  {
   "cell_type": "code",
   "execution_count": 11,
   "id": "48526afa",
   "metadata": {},
   "outputs": [
    {
     "data": {
      "text/plain": [
       "(1, 'python', True)"
      ]
     },
     "execution_count": 11,
     "metadata": {},
     "output_type": "execute_result"
    }
   ],
   "source": [
    "tup1[0:3]"
   ]
  },
  {
   "cell_type": "code",
   "execution_count": 13,
   "id": "202ca8ad",
   "metadata": {},
   "outputs": [
    {
     "data": {
      "text/plain": [
       "(2, 'Zeeshan', 3.5, False)"
      ]
     },
     "execution_count": 13,
     "metadata": {},
     "output_type": "execute_result"
    }
   ],
   "source": [
    "tup2 =(2, \"Zeeshan\", 3.5, False)\n",
    "tup2"
   ]
  },
  {
   "cell_type": "code",
   "execution_count": 17,
   "id": "a02db95a",
   "metadata": {},
   "outputs": [
    {
     "data": {
      "text/plain": [
       "(2, 'Zeeshan', 3.5, False, 2, 'Zeeshan', 3.5, False)"
      ]
     },
     "execution_count": 17,
     "metadata": {},
     "output_type": "execute_result"
    }
   ],
   "source": [
    "tup1 + tup2"
   ]
  },
  {
   "cell_type": "code",
   "execution_count": 18,
   "id": "104a57ff",
   "metadata": {},
   "outputs": [
    {
     "data": {
      "text/plain": [
       "(2, 'Zeeshan', 3.5, False, 2, 'Zeeshan', 3.5, False)"
      ]
     },
     "execution_count": 18,
     "metadata": {},
     "output_type": "execute_result"
    }
   ],
   "source": [
    "tup1*1 + tup2"
   ]
  },
  {
   "cell_type": "code",
   "execution_count": 21,
   "id": "c85de71f",
   "metadata": {},
   "outputs": [
    {
     "data": {
      "text/plain": [
       "(14, 25, 24, 35, 40, 150, 19, 86, 77, 66, 55)"
      ]
     },
     "execution_count": 21,
     "metadata": {},
     "output_type": "execute_result"
    }
   ],
   "source": [
    "tup3 =(14,25,24,35,40,150,19,86,77,66,55)\n",
    "tup3"
   ]
  },
  {
   "cell_type": "code",
   "execution_count": 22,
   "id": "86512fe8",
   "metadata": {},
   "outputs": [
    {
     "data": {
      "text/plain": [
       "14"
      ]
     },
     "execution_count": 22,
     "metadata": {},
     "output_type": "execute_result"
    }
   ],
   "source": [
    " min(tup3)"
   ]
  },
  {
   "cell_type": "code",
   "execution_count": 23,
   "id": "6e41d7f3",
   "metadata": {},
   "outputs": [
    {
     "data": {
      "text/plain": [
       "150"
      ]
     },
     "execution_count": 23,
     "metadata": {},
     "output_type": "execute_result"
    }
   ],
   "source": [
    "max(tup3)"
   ]
  },
  {
   "cell_type": "markdown",
   "id": "d744126c",
   "metadata": {},
   "source": [
    "tup3*3"
   ]
  },
  {
   "cell_type": "markdown",
   "id": "61860452",
   "metadata": {},
   "source": [
    "# LIST"
   ]
  },
  {
   "cell_type": "code",
   "execution_count": null,
   "id": "a1208a89",
   "metadata": {},
   "outputs": [],
   "source": [
    "#List items are ordered, changeable, and allow duplicate values.\n",
    "#Lists are used to store multiple items in a single variable.\n",
    "#To determine how many items a list has, use the len() function:\n"
   ]
  },
  {
   "cell_type": "code",
   "execution_count": 30,
   "id": "2fa8f5e0",
   "metadata": {},
   "outputs": [
    {
     "data": {
      "text/plain": [
       "[2, 'Zeeshan', True]"
      ]
     },
     "execution_count": 30,
     "metadata": {},
     "output_type": "execute_result"
    }
   ],
   "source": [
    "list1 = [2, \"Zeeshan\", True]\n",
    "list1"
   ]
  },
  {
   "cell_type": "code",
   "execution_count": 32,
   "id": "e9ec435e",
   "metadata": {},
   "outputs": [
    {
     "data": {
      "text/plain": [
       "list"
      ]
     },
     "execution_count": 32,
     "metadata": {},
     "output_type": "execute_result"
    }
   ],
   "source": [
    "type(list1)"
   ]
  },
  {
   "cell_type": "code",
   "execution_count": 33,
   "id": "b692139b",
   "metadata": {},
   "outputs": [
    {
     "data": {
      "text/plain": [
       "3"
      ]
     },
     "execution_count": 33,
     "metadata": {},
     "output_type": "execute_result"
    }
   ],
   "source": [
    "len(list1)"
   ]
  },
  {
   "cell_type": "code",
   "execution_count": 35,
   "id": "506eeb3b",
   "metadata": {},
   "outputs": [
    {
     "data": {
      "text/plain": [
       "True"
      ]
     },
     "execution_count": 35,
     "metadata": {},
     "output_type": "execute_result"
    }
   ],
   "source": [
    "list1[2]"
   ]
  },
  {
   "cell_type": "code",
   "execution_count": 36,
   "id": "bc650fca",
   "metadata": {},
   "outputs": [
    {
     "data": {
      "text/plain": [
       "[3, 5, 'Shani', False]"
      ]
     },
     "execution_count": 36,
     "metadata": {},
     "output_type": "execute_result"
    }
   ],
   "source": [
    "list2 = [3,5,\"Shani\",False]\n",
    "list2"
   ]
  },
  {
   "cell_type": "code",
   "execution_count": 37,
   "id": "77a7a84d",
   "metadata": {},
   "outputs": [
    {
     "data": {
      "text/plain": [
       "[2, 'Zeeshan', True, 3, 5, 'Shani', False]"
      ]
     },
     "execution_count": 37,
     "metadata": {},
     "output_type": "execute_result"
    }
   ],
   "source": [
    "list1 + list2"
   ]
  },
  {
   "cell_type": "code",
   "execution_count": 38,
   "id": "bfe3b2d4",
   "metadata": {},
   "outputs": [
    {
     "data": {
      "text/plain": [
       "[2, 'Zeeshan', True, 2, 'Zeeshan', True]"
      ]
     },
     "execution_count": 38,
     "metadata": {},
     "output_type": "execute_result"
    }
   ],
   "source": [
    "list1*2"
   ]
  },
  {
   "cell_type": "code",
   "execution_count": 41,
   "id": "6e75eee6",
   "metadata": {},
   "outputs": [
    {
     "data": {
      "text/plain": [
       "[2, 'Zeeshan', True]"
      ]
     },
     "execution_count": 41,
     "metadata": {},
     "output_type": "execute_result"
    }
   ],
   "source": [
    "list1"
   ]
  },
  {
   "cell_type": "code",
   "execution_count": 21,
   "id": "88723044",
   "metadata": {},
   "outputs": [
    {
     "data": {
      "text/plain": [
       "[1, 3, 4, 5, 6, 7, 8, 9, 10]"
      ]
     },
     "execution_count": 21,
     "metadata": {},
     "output_type": "execute_result"
    }
   ],
   "source": [
    "list3 = [1,3,4,5,6,7,8,9,10]\n",
    "list3"
   ]
  },
  {
   "cell_type": "code",
   "execution_count": 29,
   "id": "28cc344a",
   "metadata": {},
   "outputs": [
    {
     "data": {
      "text/plain": [
       "1"
      ]
     },
     "execution_count": 29,
     "metadata": {},
     "output_type": "execute_result"
    }
   ],
   "source": [
    "list3.count(5)"
   ]
  },
  {
   "cell_type": "code",
   "execution_count": 30,
   "id": "81914ee6",
   "metadata": {},
   "outputs": [],
   "source": [
    "list3.append(\"Happy Life\")"
   ]
  },
  {
   "cell_type": "code",
   "execution_count": 31,
   "id": "8f3dfb01",
   "metadata": {},
   "outputs": [
    {
     "data": {
      "text/plain": [
       "[10, 9, 8, 7, 6, 5, 4, 3, 1, 'Happy Life']"
      ]
     },
     "execution_count": 31,
     "metadata": {},
     "output_type": "execute_result"
    }
   ],
   "source": [
    "list3"
   ]
  },
  {
   "cell_type": "code",
   "execution_count": 32,
   "id": "37ca93ef",
   "metadata": {},
   "outputs": [
    {
     "data": {
      "text/plain": [
       "'Happy Life'"
      ]
     },
     "execution_count": 32,
     "metadata": {},
     "output_type": "execute_result"
    }
   ],
   "source": [
    "list3.pop()"
   ]
  },
  {
   "cell_type": "code",
   "execution_count": 36,
   "id": "b730774b",
   "metadata": {},
   "outputs": [
    {
     "data": {
      "text/plain": [
       "[1, 3, 4, 5, 6, 7, 8, 9, 10]"
      ]
     },
     "execution_count": 36,
     "metadata": {},
     "output_type": "execute_result"
    }
   ],
   "source": [
    "list3.sort()\n",
    "list3"
   ]
  },
  {
   "cell_type": "code",
   "execution_count": 38,
   "id": "de3f6223",
   "metadata": {},
   "outputs": [
    {
     "data": {
      "text/plain": [
       "[1, 3, 4, 5, 6, 7, 8, 9, 10, 'Happy Life', 'Happy Life']"
      ]
     },
     "execution_count": 38,
     "metadata": {},
     "output_type": "execute_result"
    }
   ],
   "source": [
    "list3.append(\"Happy Life\")\n",
    "list3"
   ]
  },
  {
   "cell_type": "markdown",
   "id": "21e0261e",
   "metadata": {},
   "source": [
    "# Dictionaries"
   ]
  },
  {
   "cell_type": "markdown",
   "id": "4dbfa459",
   "metadata": {},
   "source": [
    "-An Order Collection of Element\n",
    "- Key and Values\n",
    "- {}\n",
    "- Muteable And Change the Values"
   ]
  },
  {
   "cell_type": "code",
   "execution_count": 45,
   "id": "1bb9ca39",
   "metadata": {},
   "outputs": [
    {
     "data": {
      "text/plain": [
       "{'samoosa': 25, 'Raita': 20, 'Pakroya': 50, 'chicken Rools': 30}"
      ]
     },
     "execution_count": 45,
     "metadata": {},
     "output_type": "execute_result"
    }
   ],
   "source": [
    "# Food and their Prices\n",
    "food1 = {\"samoosa\":25, \"Raita\":20, \"Pakroya\":50, \"chicken Rools\":30}\n",
    "food1"
   ]
  },
  {
   "cell_type": "code",
   "execution_count": 46,
   "id": "88fa31cf",
   "metadata": {},
   "outputs": [
    {
     "data": {
      "text/plain": [
       "dict"
      ]
     },
     "execution_count": 46,
     "metadata": {},
     "output_type": "execute_result"
    }
   ],
   "source": [
    "type(food1)"
   ]
  },
  {
   "cell_type": "code",
   "execution_count": 48,
   "id": "7ec70fbd",
   "metadata": {},
   "outputs": [
    {
     "data": {
      "text/plain": [
       "dict_keys(['samoosa', 'Raita', 'Pakroya', 'chicken Rools'])"
      ]
     },
     "execution_count": 48,
     "metadata": {},
     "output_type": "execute_result"
    }
   ],
   "source": [
    "#Extract Data\n",
    "keys1 = food1.keys()\n",
    "keys1"
   ]
  },
  {
   "cell_type": "code",
   "execution_count": 49,
   "id": "b91f611a",
   "metadata": {},
   "outputs": [
    {
     "data": {
      "text/plain": [
       "dict_values([25, 20, 50, 30])"
      ]
     },
     "execution_count": 49,
     "metadata": {},
     "output_type": "execute_result"
    }
   ],
   "source": [
    "values1 = food1.values()\n",
    "values1"
   ]
  },
  {
   "cell_type": "code",
   "execution_count": 51,
   "id": "002d0a88",
   "metadata": {},
   "outputs": [
    {
     "data": {
      "text/plain": [
       "{'samoosa': 25, 'Raita': 20, 'Pakroya': 50, 'chicken Rools': 30, 'Takki': 10}"
      ]
     },
     "execution_count": 51,
     "metadata": {},
     "output_type": "execute_result"
    }
   ],
   "source": [
    "#Adding New Element\n",
    "food1[\"Takki\"]=10\n",
    "food1"
   ]
  },
  {
   "cell_type": "code",
   "execution_count": 52,
   "id": "41d5bc39",
   "metadata": {},
   "outputs": [
    {
     "data": {
      "text/plain": [
       "{'samoosa': 25, 'Raita': 20, 'Pakroya': 50, 'chicken Rools': 30, 'Takki': 15}"
      ]
     },
     "execution_count": 52,
     "metadata": {},
     "output_type": "execute_result"
    }
   ],
   "source": [
    "#update the Values\n",
    "food1 [\"Takki\"]=15\n",
    "food1"
   ]
  },
  {
   "cell_type": "code",
   "execution_count": 56,
   "id": "26cdac47",
   "metadata": {},
   "outputs": [
    {
     "data": {
      "text/plain": [
       "{'dates': 50, 'Choclates': 200, 'saaviyan': 1000}"
      ]
     },
     "execution_count": 56,
     "metadata": {},
     "output_type": "execute_result"
    }
   ],
   "source": [
    "food2 = {\"dates\":50, \"Choclates\":200, \"saaviyan\":1000}\n",
    "food2"
   ]
  },
  {
   "cell_type": "code",
   "execution_count": 57,
   "id": "28d7c118",
   "metadata": {},
   "outputs": [
    {
     "data": {
      "text/plain": [
       "{'samoosa': 25,\n",
       " 'Raita': 20,\n",
       " 'Pakroya': 50,\n",
       " 'chicken Rools': 30,\n",
       " 'Takki': 15,\n",
       " 'dates': 50,\n",
       " 'Choclates': 200,\n",
       " 'saaviyan': 1000}"
      ]
     },
     "execution_count": 57,
     "metadata": {},
     "output_type": "execute_result"
    }
   ],
   "source": [
    "#concatinate \n",
    "food1.update(food2)\n",
    "food1"
   ]
  },
  {
   "cell_type": "markdown",
   "id": "9d07f68f",
   "metadata": {},
   "source": [
    "## 4- Set\n",
    "- Unorderd And Unindexe \n",
    "- {}\n",
    "- No Dupblicate Allowed"
   ]
  },
  {
   "cell_type": "code",
   "execution_count": 62,
   "id": "60c4b6d7",
   "metadata": {},
   "outputs": [
    {
     "data": {
      "text/plain": [
       "{1, 2, 5, 'Gujrat', 'Qazi Investments', 'Zeeshan'}"
      ]
     },
     "execution_count": 62,
     "metadata": {},
     "output_type": "execute_result"
    }
   ],
   "source": [
    "s1 = {1,2,5,5,2,\"Zeeshan\",\"Qazi Investments\",\"Gujrat\", True}\n",
    "s1"
   ]
  },
  {
   "cell_type": "code",
   "execution_count": 61,
   "id": "d166cf66",
   "metadata": {},
   "outputs": [
    {
     "data": {
      "text/plain": [
       "{1, 2, 5, 'Amjad', 'Gujrat', 'Qazi Investments', 'Zeeshan'}"
      ]
     },
     "execution_count": 61,
     "metadata": {},
     "output_type": "execute_result"
    }
   ],
   "source": [
    "s1.add(\"Amjad\")\n",
    "s1"
   ]
  }
 ],
 "metadata": {
  "kernelspec": {
   "display_name": "Python 3 (ipykernel)",
   "language": "python",
   "name": "python3"
  },
  "language_info": {
   "codemirror_mode": {
    "name": "ipython",
    "version": 3
   },
   "file_extension": ".py",
   "mimetype": "text/x-python",
   "name": "python",
   "nbconvert_exporter": "python",
   "pygments_lexer": "ipython3",
   "version": "3.9.7"
  }
 },
 "nbformat": 4,
 "nbformat_minor": 5
}
