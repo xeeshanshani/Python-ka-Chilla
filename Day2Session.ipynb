{
 "cells": [
  {
   "cell_type": "code",
   "execution_count": 1,
   "id": "3efd98dc",
   "metadata": {},
   "outputs": [],
   "source": [
    "#BMI\n",
    "#Input Weight\n",
    "#input Height\n",
    "#BMI(Ask your height)\n",
    "#Calculate BMI\n",
    "#Print BMI(\"name and BMI\")"
   ]
  },
  {
   "cell_type": "code",
   "execution_count": 2,
   "id": "1d7e4ad5",
   "metadata": {},
   "outputs": [],
   "source": [
    "#wight in Kg/ height in m"
   ]
  },
  {
   "cell_type": "code",
   "execution_count": 3,
   "id": "59304f94",
   "metadata": {},
   "outputs": [
    {
     "name": "stdout",
     "output_type": "stream",
     "text": [
      "What is your height ?168\n"
     ]
    }
   ],
   "source": [
    "height = input(\"What is your height ?\")"
   ]
  },
  {
   "cell_type": "code",
   "execution_count": 4,
   "id": "ba158d73",
   "metadata": {},
   "outputs": [],
   "source": [
    "height = float(height)"
   ]
  },
  {
   "cell_type": "code",
   "execution_count": 5,
   "id": "939cb55b",
   "metadata": {},
   "outputs": [
    {
     "name": "stdout",
     "output_type": "stream",
     "text": [
      "What is your weight ?65\n"
     ]
    }
   ],
   "source": [
    "weight = input(\"What is your weight ?\")"
   ]
  },
  {
   "cell_type": "code",
   "execution_count": 6,
   "id": "2fef2f55",
   "metadata": {},
   "outputs": [],
   "source": [
    "weight = float(weight)"
   ]
  },
  {
   "cell_type": "code",
   "execution_count": 7,
   "id": "10eca65f",
   "metadata": {},
   "outputs": [
    {
     "name": "stdout",
     "output_type": "stream",
     "text": [
      "What is your name ?zeeshan\n"
     ]
    }
   ],
   "source": [
    "name = input(\"What is your name ?\")"
   ]
  },
  {
   "cell_type": "code",
   "execution_count": 8,
   "id": "ae9499ad",
   "metadata": {},
   "outputs": [
    {
     "data": {
      "text/plain": [
       "0.002303004535147392"
      ]
     },
     "execution_count": 8,
     "metadata": {},
     "output_type": "execute_result"
    }
   ],
   "source": [
    "BMI = weight/height**2\n",
    "BMI"
   ]
  },
  {
   "cell_type": "code",
   "execution_count": 9,
   "id": "7eaa3a72",
   "metadata": {},
   "outputs": [
    {
     "name": "stdout",
     "output_type": "stream",
     "text": [
      "my name is  zeeshan and my BMI is  0.002303004535147392\n"
     ]
    }
   ],
   "source": [
    "print(\"my name is \", name , \"and my BMI is \" ,BMI)"
   ]
  }
 ],
 "metadata": {
  "kernelspec": {
   "display_name": "Python 3 (ipykernel)",
   "language": "python",
   "name": "python3"
  },
  "language_info": {
   "codemirror_mode": {
    "name": "ipython",
    "version": 3
   },
   "file_extension": ".py",
   "mimetype": "text/x-python",
   "name": "python",
   "nbconvert_exporter": "python",
   "pygments_lexer": "ipython3",
   "version": "3.9.7"
  }
 },
 "nbformat": 4,
 "nbformat_minor": 5
}
