{
 "cells": [
  {
   "cell_type": "markdown",
   "id": "6726c0cd",
   "metadata": {},
   "source": [
    "# Python Ka Chilla With #Baba Aammar\n",
    "## How To Use Jupyter Note Book\n",
    "## Basic of Python"
   ]
  },
  {
   "cell_type": "code",
   "execution_count": null,
   "id": "354e8097",
   "metadata": {},
   "outputs": [],
   "source": [
    "#My Program 1st Program\n",
    "print (2*9)\n",
    "print(\"Hello World\")\n",
    "print(\"Hy Zeeshan!\")"
   ]
  },
  {
   "cell_type": "code",
   "execution_count": 3,
   "id": "feabf5c2",
   "metadata": {},
   "outputs": [
    {
     "name": "stdout",
     "output_type": "stream",
     "text": [
      "11\n",
      "-7\n",
      "18\n",
      "0.2222222222222222\n",
      "512\n",
      "0\n",
      "2\n",
      "1.4142135623730951\n",
      "1.189207115002721\n",
      "2.0\n",
      "2\n"
     ]
    }
   ],
   "source": [
    "#program 2nd\n",
    "print(2+9)\n",
    "print(2-9)\n",
    "print(2*9)\n",
    "print(2/9)\n",
    "print(2**9)\n",
    "print(2//9)\n",
    "print(2%9)\n",
    "print(2**0.5)\n",
    "print(2**0.25)\n",
    "#PEMDAS\n",
    "print(2+9*9/9-9)\n",
    "print(2**9//9%9)"
   ]
  },
  {
   "cell_type": "code",
   "execution_count": 4,
   "id": "3b6d606c",
   "metadata": {},
   "outputs": [
    {
     "name": "stdout",
     "output_type": "stream",
     "text": [
      "Hello World\n",
      "HelloZeeshan\n",
      "HelloHelloHello\n",
      "HelloWorldWorldWorld\n",
      "HelloHelloHelloWorld\n",
      "HelloHelloHelloWorldWorldWorld\n",
      "HelloHelloHelloWorldWorldWorld!\n"
     ]
    }
   ],
   "source": [
    "#program 3rd\n",
    "##String\n",
    "print(\"Hello World\")\n",
    "print(\"Hello\"+\"Zeeshan\")\n",
    "print(\"Hello\"*3)\n",
    "print(\"Hello\"+\"World\"*3)\n",
    "print(\"Hello\"*3+\"World\")\n",
    "print(\"Hello\"*3+\"World\"*3)\n",
    "print(\"Hello\"*3+\"World\"*3+\"!\")"
   ]
  },
  {
   "cell_type": "code",
   "execution_count": 5,
   "id": "34c3f69d",
   "metadata": {},
   "outputs": [
    {
     "name": "stdout",
     "output_type": "stream",
     "text": [
      "30\n"
     ]
    }
   ],
   "source": [
    "#program 4th\n",
    "#Comment In Python\n",
    "# Commenting is done using #\n",
    "# Commenting is done using \"\"\" \"\"\"\n",
    "# Ctrl + /\n",
    "#program 5th\n",
    "#Variables in Python\n",
    "x = 10\n",
    "y = 20\n",
    "z = x+y\n",
    "print(z)\n"
   ]
  },
  {
   "cell_type": "code",
   "execution_count": 6,
   "id": "8b61092b",
   "metadata": {},
   "outputs": [
    {
     "name": "stdout",
     "output_type": "stream",
     "text": [
      "<class 'tuple'>\n",
      "('Apple', 'Orange', 'Banana')\n"
     ]
    }
   ],
   "source": [
    "# #type of variable\n",
    "# print(type(x))\n",
    "# print(type(y))\n",
    "\n",
    "# #Rules to assign variable\n",
    "# #1. Variable name must start with a letter or an underscore\n",
    "# #2. Variable name is case sensitive\n",
    "# #3. Variable name should not be a Python keyword\n",
    "# #4. Variable name should be meaningful and descriptive\n",
    "\n",
    "fruit = ('Apple',\"Orange\",\"Banana\")\n",
    "print(type(fruit))\n",
    "print(fruit)"
   ]
  },
  {
   "cell_type": "code",
   "execution_count": 7,
   "id": "3577b1be",
   "metadata": {},
   "outputs": [
    {
     "name": "stdout",
     "output_type": "stream",
     "text": [
      "What is your Favourite ? apple\n",
      "apple\n",
      "What is your name ? shani\n",
      "Hello shani\n",
      "What is your name ? shani\n",
      "Hello shani\n",
      "What is your name ? 25\n",
      "What is your age ? 25\n",
      "Hello 25 you are 25\n"
     ]
    }
   ],
   "source": [
    "#program 6th\n",
    "#Input in Python\n",
    "\n",
    "fruit_basket =input(\"What is your Favourite ? \")\n",
    "print(fruit_basket)\n",
    "\n",
    "#input Function with 2nd stage\n",
    "name = input(\"What is your name ? \")\n",
    "greeting = \"Hello\"\n",
    "print(greeting, name)\n",
    "\n",
    "#another way to input\n",
    "name = input(\"What is your name ? \")\n",
    "print(\"Hello\", name)\n",
    "\n",
    "#another way to input\n",
    "name = input(\"What is your name ? \")\n",
    "age = input(\"What is your age ? \")\n",
    "greeting = \"Hello\"\n",
    "print(greeting, name, \"you are\", age)"
   ]
  },
  {
   "cell_type": "code",
   "execution_count": 8,
   "id": "0e38289d",
   "metadata": {},
   "outputs": [
    {
     "name": "stdout",
     "output_type": "stream",
     "text": [
      "True\n",
      "False\n",
      "True\n",
      "False\n",
      "True\n",
      "False\n",
      "True\n",
      "True\n",
      "True\n",
      "False\n",
      "True\n",
      "False\n",
      "What is your age ? 25\n",
      "False\n"
     ]
    }
   ],
   "source": [
    "#Program 7th\n",
    "# Condition Logical Operation in Python\n",
    "# equal to ==\n",
    "# not equal to !=\n",
    "# greater than >\n",
    "# less than <\n",
    "# greater than or equal to >=\n",
    "# less than or equal to <=\n",
    "# and\n",
    "# or\n",
    "# not\n",
    "print(1==1)\n",
    "print(1==2)\n",
    "print(1!=2)\n",
    "print(1>2)\n",
    "print(1<2)\n",
    "print(1>=2)\n",
    "print(1<=2)\n",
    "print(1==1 and 2==2)\n",
    "print(1==1 or 2==2)\n",
    "print(not(1==1))\n",
    "print(not(1==2))\n",
    "\n",
    "# Application of Logical Operator\n",
    "imtanan = 4\n",
    "age_at_school = 5\n",
    "print(imtanan==age_at_school)\n",
    "\n",
    "#input and Logical Operator\n",
    "age_at_school = 5\n",
    "imtanan = int(input(\"What is your age ? \")) #input function\n",
    "print(imtanan==age_at_school) #Logical Operator\n"
   ]
  },
  {
   "cell_type": "code",
   "execution_count": 9,
   "id": "e7be97bd",
   "metadata": {},
   "outputs": [
    {
     "name": "stdout",
     "output_type": "stream",
     "text": [
      "<class 'float'>\n",
      "What is your age ? 25\n",
      "<class 'float'>\n"
     ]
    }
   ],
   "source": [
    "#Program 8th\n",
    "#Type Conversion in Python\n",
    "# int()\n",
    "# float()\n",
    "# str()\n",
    "# bool()\n",
    "x = 10   #int\n",
    "y = 20.5  #float\n",
    "z = \"Hello\" #string\n",
    "#implicit type conversion\n",
    "x = x*y\n",
    "print(type(x))\n",
    "\n",
    "# explicit type conversion\n",
    "age = float(input(\"What is your age ? \"))\n",
    "print(type(age))\n"
   ]
  },
  {
   "cell_type": "code",
   "execution_count": 10,
   "id": "33e1622c",
   "metadata": {},
   "outputs": [
    {
     "name": "stdout",
     "output_type": "stream",
     "text": [
      "Cong! You are in school\n"
     ]
    }
   ],
   "source": [
    "# Program 9th\n",
    "# IF Else Elsif Else in Python\n",
    "# if condition:\n",
    "age_at_school = 5\n",
    "imtanan = 6\n",
    "# if condition:\n",
    "if imtanan==age_at_school:\n",
    "    print(\"You are in school\")\n",
    "elif imtanan>age_at_school:\n",
    "    print(\"Cong! You are in school\")\n",
    "else:\n",
    "    print(\"You are not in school\")"
   ]
  },
  {
   "cell_type": "code",
   "execution_count": 11,
   "id": "d707658b",
   "metadata": {},
   "outputs": [],
   "source": [
    "# Program 10th\n",
    "# Functions in Python\n",
    "# def function_name(parameter):\n",
    "# def print_shani():\n",
    "#     text =\"I love my brother\"\n",
    "#     print(text)\n",
    "#     print(text)\n",
    "#     print(text)\n",
    "  \n",
    "#     print_shani()\n",
    "\n",
    "# #2nd way to write function\n",
    "def print_shani_2(text):\n",
    "    print(text)\n",
    "    print(text)\n",
    "    print(text)\n",
    "    print_shani_2(\"I love my brother\")\n",
    "\n",
    "# #3rd way to write function\n",
    "def print_shani_3(text):\n",
    "    print(text)\n",
    "    print(text)\n",
    "    print(text)\n",
    "    print_shani_3(\"I love my brother\")"
   ]
  },
  {
   "cell_type": "code",
   "execution_count": 12,
   "id": "312479c4",
   "metadata": {},
   "outputs": [
    {
     "name": "stdout",
     "output_type": "stream",
     "text": [
      "You are not in school\n",
      "34\n"
     ]
    }
   ],
   "source": [
    "#Program 11th\n",
    "# defining a function with if else function\n",
    "def  school_calculator(age_at_school,imtanan):\n",
    "    if imtanan==age_at_school:\n",
    "        print(\"You are in school\")\n",
    "    elif imtanan>age_at_school:\n",
    "        print(\"Cong! You are in school\")\n",
    "    else:\n",
    "        print(\"You are not in school\")\n",
    "school_calculator(4,2)\n",
    "\n",
    "\n",
    "# Defining a function of Future\n",
    "def future_age(age,year):\n",
    "    new_age= age+20\n",
    "    return new_age\n",
    "\n",
    "future_prediction = future_age(14,2020)\n",
    "print(future_prediction)"
   ]
  },
  {
   "cell_type": "code",
   "execution_count": 13,
   "id": "d5a784ba",
   "metadata": {},
   "outputs": [
    {
     "name": "stdout",
     "output_type": "stream",
     "text": [
      "0\n",
      "1\n",
      "2\n",
      "3\n",
      "4\n",
      "5\n",
      "6\n",
      "7\n",
      "8\n",
      "9\n",
      "10\n",
      "11\n",
      "12\n",
      "13\n",
      "14\n",
      "15\n",
      "16\n",
      "17\n",
      "18\n",
      "19\n",
      "20\n",
      "21\n",
      "22\n",
      "23\n",
      "24\n",
      "25\n",
      "26\n",
      "27\n",
      "28\n",
      "29\n",
      "30\n",
      "31\n",
      "32\n",
      "33\n",
      "34\n",
      "35\n",
      "36\n",
      "37\n",
      "38\n",
      "39\n",
      "40\n",
      "41\n",
      "42\n",
      "43\n",
      "44\n",
      "45\n",
      "46\n",
      "47\n",
      "48\n",
      "49\n",
      "50\n",
      "51\n",
      "52\n",
      "53\n",
      "54\n",
      "55\n",
      "56\n",
      "57\n",
      "58\n",
      "59\n",
      "60\n",
      "61\n",
      "62\n",
      "63\n",
      "64\n",
      "65\n",
      "66\n",
      "67\n",
      "68\n",
      "69\n",
      "70\n",
      "71\n",
      "72\n",
      "73\n",
      "74\n",
      "75\n",
      "76\n",
      "77\n",
      "78\n",
      "79\n",
      "80\n",
      "81\n",
      "82\n",
      "83\n",
      "84\n",
      "85\n",
      "86\n",
      "87\n",
      "88\n",
      "89\n",
      "90\n",
      "91\n",
      "92\n",
      "93\n",
      "94\n",
      "95\n",
      "96\n",
      "97\n",
      "98\n",
      "99\n",
      "100\n",
      "101\n",
      "102\n",
      "103\n",
      "104\n",
      "105\n",
      "106\n",
      "107\n",
      "108\n",
      "109\n",
      "110\n",
      "111\n",
      "112\n",
      "113\n",
      "114\n",
      "115\n",
      "116\n",
      "117\n",
      "118\n",
      "119\n",
      "120\n",
      "121\n",
      "122\n",
      "123\n",
      "124\n",
      "125\n",
      "126\n",
      "127\n",
      "128\n",
      "129\n",
      "130\n",
      "131\n",
      "132\n",
      "133\n",
      "134\n",
      "135\n",
      "136\n",
      "137\n",
      "138\n",
      "139\n",
      "140\n",
      "141\n",
      "142\n",
      "143\n",
      "144\n",
      "145\n",
      "146\n",
      "147\n",
      "148\n",
      "149\n",
      "0\n",
      "1\n",
      "2\n",
      "3\n",
      "4\n",
      "5\n",
      "6\n",
      "7\n",
      "8\n",
      "9\n",
      "Apple\n",
      "Orange\n",
      "Banana\n"
     ]
    }
   ],
   "source": [
    "# Program 12th\n",
    "# Loop in Python\n",
    "# for loop\n",
    "for i in range(150):\n",
    "    print(i)\n",
    "\n",
    "#while loop\n",
    "i=0\n",
    "while i<10:\n",
    "    print(i)\n",
    "    i=i+1\n",
    "\n",
    "# Array in Python\n",
    "fruits = [\"Apple\",\"Orange\",\"Banana\"]\n",
    "for fruit in fruits:\n",
    "    print(fruit)\n"
   ]
  },
  {
   "cell_type": "code",
   "execution_count": 14,
   "id": "3c1c1ed4",
   "metadata": {},
   "outputs": [
    {
     "name": "stdout",
     "output_type": "stream",
     "text": [
      "4.0\n",
      "3.141592653589793\n",
      "1.0\n",
      "350\n",
      "350\n",
      "150\n",
      "25000\n",
      "158.11388300841898\n"
     ]
    }
   ],
   "source": [
    "#Program 13th\n",
    "\n",
    "# import Library in Python\n",
    "import math\n",
    "import statistics\n",
    "print(math.sqrt(16))\n",
    "print(math.pi)\n",
    "print(math.sin(math.pi/2))\n",
    "\n",
    "\n",
    "x=(150,250,350,450,550)\n",
    "print(statistics.mean(x))\n",
    "print(statistics.median(x))\n",
    "print(statistics.mode(x))\n",
    "print(statistics.variance(x))\n",
    "print(statistics.stdev(x))"
   ]
  },
  {
   "cell_type": "code",
   "execution_count": null,
   "id": "1f080c08",
   "metadata": {},
   "outputs": [],
   "source": [
    "#program 14th\n",
    "# Troubleshooting in Python\n",
    "print(we are learning paython) #SyntaxError: invalid syntax\n",
    "print(\"we are learning paython\") #SyntaxError: invalid syntax\n",
    "print(25/0) #ZeroDivisionError: division by \n",
    "#name = \"Zeeshan\"\n",
    "print(\"Hello name\"  + name)\n",
    "\n",
    "#information about error\n",
    "print(name)"
   ]
  }
 ],
 "metadata": {
  "kernelspec": {
   "display_name": "Python 3 (ipykernel)",
   "language": "python",
   "name": "python3"
  },
  "language_info": {
   "codemirror_mode": {
    "name": "ipython",
    "version": 3
   },
   "file_extension": ".py",
   "mimetype": "text/x-python",
   "name": "python",
   "nbconvert_exporter": "python",
   "pygments_lexer": "ipython3",
   "version": "3.9.7"
  }
 },
 "nbformat": 4,
 "nbformat_minor": 5
}
