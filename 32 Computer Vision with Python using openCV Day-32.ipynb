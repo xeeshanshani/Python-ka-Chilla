{
 "cells": [
  {
   "cell_type": "code",
   "execution_count": 1,
   "metadata": {},
   "outputs": [],
   "source": [
    "#Chapter 1: Image Processing\n",
    "# import libraries\n",
    "import cv2 as cv\n",
    "import numpy as np\n",
    "\n",
    "img = cv.imread('stamp.png')\n",
    "\n",
    "cv.imshow('Original', img)\n",
    "cv.waitKey(0)   \n",
    "cv.destroyAllWindows()"
   ]
  },
  {
   "cell_type": "markdown",
   "metadata": {},
   "source": [
    "### Change The Size of Image"
   ]
  },
  {
   "cell_type": "code",
   "execution_count": 2,
   "metadata": {},
   "outputs": [
    {
     "data": {
      "text/plain": [
       "-1"
      ]
     },
     "execution_count": 2,
     "metadata": {},
     "output_type": "execute_result"
    }
   ],
   "source": [
    "#Chapter 2: Image Transformation\n",
    "# Reading a image and change the size\n",
    "img = cv.imread('stamp.png')\n",
    "img = cv.resize(img, (400, 400))\n",
    "cv.imshow('Resized', img)\n",
    "cv.waitKey(0) "
   ]
  },
  {
   "cell_type": "code",
   "execution_count": 3,
   "metadata": {},
   "outputs": [
    {
     "data": {
      "text/plain": [
       "-1"
      ]
     },
     "execution_count": 3,
     "metadata": {},
     "output_type": "execute_result"
    }
   ],
   "source": [
    "#Chapter 3: Image Transformation\n",
    "# Converting an image to grayscale\n",
    "img = cv.imread('stamp.png')\n",
    "gray = cv.cvtColor(img, cv.COLOR_BGR2GRAY)\n",
    "cv.imshow('Gray', gray)\n",
    "cv.waitKey(0)"
   ]
  },
  {
   "cell_type": "code",
   "execution_count": 5,
   "metadata": {},
   "outputs": [],
   "source": [
    "# Chapter 4: Image Transformation\n",
    "# Convert image into black and white\n",
    "img = cv.imread('stamp.png')\n",
    "gray = cv.cvtColor(img, cv.COLOR_BGR2GRAY)\n",
    "ret, thresh = cv.threshold(gray, 127, 255, cv.THRESH_BINARY)\n",
    "(thresh, binary) = cv.threshold(gray, 127, 255, cv.THRESH_BINARY)\n",
    "cv.imshow('original', img)\n",
    "cv.imshow('gray', gray)\n",
    "cv.imshow('black and white', binary)\n",
    "cv.imshow('Threshold', thresh)\n",
    "cv.waitKey(0)\n",
    "cv.destroyAllWindows()"
   ]
  },
  {
   "cell_type": "code",
   "execution_count": 6,
   "metadata": {},
   "outputs": [
    {
     "data": {
      "text/plain": [
       "True"
      ]
     },
     "execution_count": 6,
     "metadata": {},
     "output_type": "execute_result"
    }
   ],
   "source": [
    "# Chapter 5: Save Image\n",
    "# Save image\n",
    "from cv2 import imwrite\n",
    "from cv2 import imread\n",
    "img = cv.imread('stamp.png')\n",
    "gray = cv.cvtColor(img, cv.COLOR_BGR2GRAY)\n",
    "#ret, thresh = cv.threshold(gray, 127, 255, cv.THRESH_BINARY)\n",
    "(thresh, binary) = cv.threshold(gray, 127, 255, cv.THRESH_BINARY)\n",
    "imwrite('stamp_gray.png', gray)\n",
    "imwrite('stamp_binary.png', binary)\n",
    "\n"
   ]
  },
  {
   "cell_type": "code",
   "execution_count": 1,
   "metadata": {},
   "outputs": [],
   "source": [
    "# Chapter 6: Video Writing\n",
    "import cv2 as cv\n",
    "\n",
    "cap = cv.VideoCapture('promo.mov')\n",
    "\n",
    "# indicate the number of frames to skip\n",
    "if (cap.isOpened() == False): \n",
    "  print(\"Error opening video stream or file\")\n",
    "# Read until video is completed\n",
    "while (cap.isOpened()):\n",
    "    ret, frame = cap.read()\n",
    "    if ret == True:\n",
    "        cv.imshow('Frame', frame)\n",
    "        if cv.waitKey(1) & 0xFF == ord('q'):\n",
    "            break\n",
    "    else:\n",
    "        break    \n",
    "\n",
    "cap.release()\n",
    "cv.destroyAllWindows()\n"
   ]
  },
  {
   "cell_type": "code",
   "execution_count": 1,
   "metadata": {},
   "outputs": [],
   "source": [
    "# Chapter 7: Video Writing\n",
    "# Convert video to grayscale\n",
    "import cv2 as cv\n",
    "\n",
    "cap = cv.VideoCapture('promo.mov')\n",
    "while (True):\n",
    "  (ret,frame)= cap.read()\n",
    "  grayframe = cv.cvtColor(frame, cv.COLOR_BGR2GRAY)\n",
    "  (thresh, binary) = cv.threshold(grayframe, 127, 255, cv.THRESH_BINARY)\n",
    "  # to Show the Video\n",
    "  if ret == True:\n",
    "        cv.imshow('Frame',   binary)\n",
    "        # To Quit key with Q\n",
    "        if cv.waitKey(1) & 0xFF == ord('q'):\n",
    "            break\n",
    "  else:\n",
    "        break  \n",
    "cap.release()\n",
    "cv.destroyAllWindows()"
   ]
  },
  {
   "cell_type": "code",
   "execution_count": 1,
   "metadata": {},
   "outputs": [],
   "source": [
    "# Chapter 8: Video Writing\n",
    "import cv2 as cv\n",
    "cap = cv.VideoCapture('promo.mov')\n",
    "# Writing Formet, codec, video writer object and file output\n",
    "out = cv.VideoWriter('outputnew.avi', cv.VideoWriter_fourcc('M','J','P','G'), 30, (640,480),isColor=False)\n",
    "while (True):\n",
    "  (ret,frame)= cap.read()\n",
    "  grayframe = cv.cvtColor(frame, cv.COLOR_BGR2GRAY)\n",
    "  #(thresh, binary) = cv.threshold(grayframe, 127, 255, cv.THRESH_BINARY)\n",
    "  # to Show the Video\n",
    "  if ret == True:\n",
    "        out.write(grayframe)\n",
    "        cv.imshow('Frame',   grayframe)\n",
    "        # To Quit key with Q\n",
    "        if cv.waitKey(1) & 0xFF == ord('q'):\n",
    "            break\n",
    "  else:\n",
    "        break  \n",
    "cap.release()\n",
    "out.release()\n",
    "cv.destroyAllWindows()\n"
   ]
  },
  {
   "cell_type": "code",
   "execution_count": 4,
   "metadata": {},
   "outputs": [],
   "source": [
    "# Chapter 9: how to capture video from webcam\n",
    "import cv2 as cv\n",
    "import numpy as np\n",
    "cap = cv.VideoCapture(0) # 0 is the id of the webcam\n",
    "# Read until video is completed\n",
    "while (cap.isOpened()):\n",
    "    # Capture frame-by-frame\n",
    "    ret, frame = cap.read()\n",
    "    if ret == True:\n",
    "        # Display the resulting frame\n",
    "        cv.imshow('Frame', frame)\n",
    "        if cv.waitKey(1) & 0xFF == ord('q'):\n",
    "            break\n",
    "    else:\n",
    "        break\n",
    "# Step 5: Release the VideoCapture object\n",
    "cap.release()\n",
    "cv.destroyAllWindows()\n"
   ]
  },
  {
   "cell_type": "code",
   "execution_count": 2,
   "metadata": {},
   "outputs": [],
   "source": [
    "# Chapter 10: Show the Capture from video\n",
    "import cv2 as cv\n",
    "import numpy as np\n",
    "cap = cv.VideoCapture(0) # 0 is the id of the webcam\n",
    "# Read until video is completed\n",
    "while (True):\n",
    "    # Capture frame-by-frame\n",
    "    (ret, frame) = cap.read()\n",
    "    # Convert the Color image to Gray image\n",
    "    cv.imshow('Orginal', frame)\n",
    "    gray = cv.cvtColor(frame, cv.COLOR_BGR2GRAY)\n",
    "    cv.imshow('Gray', gray)\n",
    "    # Display the resulting frame\n",
    "    if cv.waitKey(1) & 0xFF == ord('q'):\n",
    "        break\n",
    "\n",
    "cap.release()\n",
    "cv.destroyAllWindows()\n"
   ]
  },
  {
   "cell_type": "code",
   "execution_count": 2,
   "metadata": {},
   "outputs": [],
   "source": [
    "# Chapter 11: Change the Brightness of the image\n",
    "import cv2 as cv\n",
    "import numpy as np\n",
    "cap = cv.VideoCapture(0) # 0 is the id of the webcam\n",
    "# Read until video is completed\n",
    "while (True):\n",
    "    # Capture frame-by-frame\n",
    "    (ret, frame) = cap.read()\n",
    "    # Convert the Color image to Gray image\n",
    "    cv.imshow('Orginal', frame)\n",
    "    gray = cv.cvtColor(frame, cv.COLOR_BGR2GRAY)\n",
    "    cv.imshow('Gray', gray)\n",
    "    # Display the resulting frame\n",
    "    if cv.waitKey(1) & 0xFF == ord('q'):\n",
    "        break\n",
    "cap.release()\n",
    "cv.destroyAllWindows()\n"
   ]
  },
  {
   "cell_type": "code",
   "execution_count": 36,
   "metadata": {},
   "outputs": [
    {
     "name": "stdout",
     "output_type": "stream",
     "text": [
      "Image Shape:  (500, 500, 3)\n"
     ]
    }
   ],
   "source": [
    "# Chapter 11: No WebCam\n",
    "# Chapter 12: No WebCam\n",
    "# Chapter 13: Basic manipulation of images\n",
    "import cv2 as cv\n",
    "import numpy as np\n",
    "img = cv.imread('stamp.png')\n",
    "\n",
    "# Resize the image to 50% of the original size\n",
    "resized_img = cv.resize(img, (450,250), fx=0.5, fy=0.5)\n",
    "# # Convert the image to grayscale\n",
    "gray_img = cv.cvtColor(resized_img, cv.COLOR_BGR2GRAY)\n",
    "\n",
    "# # blur the image\n",
    "blur_img = cv.GaussianBlur(gray_img, (23,23), 0)\n",
    "\n",
    "# Edge detection\n",
    "edges = cv.Canny(blur_img, 48, 48)\n",
    "# Thickness of Lines\n",
    "mat_kernal = np.ones((5,5), np.uint8)\n",
    "dilated_img = cv.dilate(edges, (mat_kernal), iterations=2)\n",
    "\n",
    "# Thinner outlines\n",
    "oro_img = cv.erode(dilated_img, (mat_kernal), iterations=2)\n",
    "\n",
    "# Crop the image using numPy indexing\n",
    "print(\"Image Shape: \", img.shape)\n",
    "crop_img = img[0:250, 0:450]\n",
    "\n",
    "\n",
    "\n",
    "\n",
    "\n",
    "cv.imshow('original', img)\n",
    "cv.imshow('resized', resized_img)\n",
    "cv.imshow('gray', gray_img)\n",
    "cv.imshow('blur', blur_img)\n",
    "cv.imshow('edges', edges)\n",
    "cv.imshow('dilated', dilated_img)\n",
    "cv.imshow('thick', oro_img)\n",
    "cv.imshow('crop', crop_img)\n",
    "cv.waitKey(0)\n",
    "cv.destroyAllWindows()"
   ]
  },
  {
   "cell_type": "code",
   "execution_count": 40,
   "metadata": {},
   "outputs": [
    {
     "name": "stdout",
     "output_type": "stream",
     "text": [
      "Print the Size of Canvas (300, 300)\n"
     ]
    }
   ],
   "source": [
    "# Chapter 14: How to draw a lines and shapes in python\n",
    "import cv2 as cv\n",
    "import numpy as np\n",
    "\n",
    "# Deaw a canvas\n",
    "canvas = np.zeros((300,300))\n",
    "#img = np.ones((300,300))\n",
    "# Print the size of canvas\n",
    "print(\"Print the Size of Canvas\",canvas.shape)\n",
    "# Adding Color to the canvas\n",
    "img1 = np.zeros((600,600,3), np.uint8) # color channel\n",
    "img1[:] = (255,0,0) # white color\n",
    "# add trinagle in the canvas\n",
    "img1[0:300, 0:300] = (0,0,255) # blue color\n",
    "\n",
    "# adding lines\n",
    "cv.line(img1, (0,0), (300,300), (255,255,255), 3)\n",
    "\n",
    "# adding rectangle\n",
    "cv.rectangle(img1, (50,100), (300,300), (0,255,0), 3)\n",
    "# filled rectangle\n",
    "cv.rectangle(img1, (50,100), (300,300), (0,255,0), -1)\n",
    "# adding circle\n",
    "cv.circle(img1, (150,150), 50, (0,0,255), 3)\n",
    "# filled Circle\n",
    "cv.circle(img1, (150,150), 50, (145,0,255), -1)\n",
    "# adding text\n",
    "cv.putText(img1, 'Zeeshan Work on OpenCV', (10,500), cv.FONT_HERSHEY_SIMPLEX, 1, (255,255,255), 2)\n",
    "\n",
    "\n",
    "\n",
    "# print(canvas)\n",
    "#cv.imshow('black', canvas)\n",
    "#cv.imshow('white', img)\n",
    "cv.imshow('colored', img1)\n",
    "\n",
    "cv.waitKey(0)\n",
    "cv.destroyAllWindows()"
   ]
  },
  {
   "cell_type": "markdown",
   "metadata": {},
   "source": [
    "[histogram equalization opencv](https://docs.opencv.org/3.4/d4/d1b/tutorial_histogram_equalization.html)\n",
    "#### Chapter 15 and 16 For WebCam\n"
   ]
  },
  {
   "cell_type": "code",
   "execution_count": 6,
   "metadata": {},
   "outputs": [],
   "source": [
    "# Chapter 17 : How to join two images\n",
    "import cv2 as cv\n",
    "import numpy as np\n",
    "\n",
    "img = cv.imread('stamp.png')\n",
    "# Stacking same images\n",
    "img1 = np.hstack((img, img))\n",
    "\n",
    "# Vertical stacking\n",
    "img2 = np.vstack((img, img))\n",
    "\n",
    "# you can only stack images of same size\n",
    "#   img3 = np.vstack((img, img1))\n",
    "\n",
    "#cv.imshow('horizontal', img1)\n",
    "cv.imshow('vertical', img2)\n",
    "\n",
    "cv.waitKey(0)\n",
    "cv.destroyAllWindows()\n",
    "\n"
   ]
  },
  {
   "cell_type": "markdown",
   "metadata": {},
   "source": [
    "### Change The perceptive of Image"
   ]
  },
  {
   "cell_type": "code",
   "execution_count": 12,
   "metadata": {},
   "outputs": [
    {
     "name": "stdout",
     "output_type": "stream",
     "text": [
      "(3, 3)\n",
      "[[ 1.06962126e+00  9.61784781e-02 -7.31451899e+01]\n",
      " [ 3.87381282e-02  1.14923114e+00 -8.39971746e+01]\n",
      " [ 1.45318012e-04  4.58051741e-04  1.00000000e+00]]\n",
      "(350, 350, 3)\n"
     ]
    }
   ],
   "source": [
    "import numpy as np\n",
    "import cv2\n",
    "\n",
    "# read input\n",
    "img = cv2.imread(\"wrap.jpg\")\n",
    "\n",
    "# specify desired output size \n",
    "width = 350\n",
    "height = 350\n",
    "\n",
    "# specify conjugate x,y coordinates (not y,x)\n",
    "input = np.float32([[62,71], [418,59], [442,443], [29,438]])\n",
    "output = np.float32([[0,0], [width-1,0], [width-1,height-1], [0,height-1]])\n",
    "\n",
    "# compute perspective matrix\n",
    "matrix = cv2.getPerspectiveTransform(input,output)\n",
    "\n",
    "print(matrix.shape)\n",
    "print(matrix)\n",
    "\n",
    "# do perspective transformation setting area outside input to black\n",
    "imgOutput = cv2.warpPerspective(img, matrix, (width,height), cv2.INTER_LINEAR, borderMode=cv2.BORDER_CONSTANT, borderValue=(0,0,0))\n",
    "print(imgOutput.shape)\n",
    "\n",
    "# save the warped output\n",
    "cv2.imwrite(\"sudoku_warped.jpg\", imgOutput)\n",
    "\n",
    "# show the result\n",
    "cv2.imshow(\"result\", imgOutput)\n",
    "cv2.waitKey(0)\n",
    "cv2.destroyAllWindows()"
   ]
  }
 ],
 "metadata": {
  "interpreter": {
   "hash": "8fac594bfae6525c0c41b4041d2d72effa188cc8ead05f81b1fab2bb098927fb"
  },
  "kernelspec": {
   "display_name": "Python 3.9.7 64-bit ('base': conda)",
   "language": "python",
   "name": "python3"
  },
  "language_info": {
   "codemirror_mode": {
    "name": "ipython",
    "version": 3
   },
   "file_extension": ".py",
   "mimetype": "text/x-python",
   "name": "python",
   "nbconvert_exporter": "python",
   "pygments_lexer": "ipython3",
   "version": "3.10.2"
  },
  "orig_nbformat": 4
 },
 "nbformat": 4,
 "nbformat_minor": 2
}
